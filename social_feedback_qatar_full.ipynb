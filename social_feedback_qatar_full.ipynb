{
 "cells": [
  {
   "cell_type": "markdown",
   "id": "09fe9752",
   "metadata": {},
   "source": [
    "# جمع بيانات من Reddit وFacebook وInstagram حول الجهات الحكومية في قطر"
   ]
  },
  {
   "cell_type": "code",
   "execution_count": 1,
   "id": "881ea39d",
   "metadata": {},
   "outputs": [
    {
     "name": "stdout",
     "output_type": "stream",
     "text": [
      "Requirement already satisfied: praw in c:\\users\\ahd\\anaconda3\\lib\\site-packages (7.8.1)\n",
      "Requirement already satisfied: googletrans==4.0.0-rc1 in c:\\users\\ahd\\anaconda3\\lib\\site-packages (4.0.0rc1)\n",
      "Requirement already satisfied: langdetect in c:\\users\\ahd\\anaconda3\\lib\\site-packages (1.0.9)\n",
      "Requirement already satisfied: pandas in c:\\users\\ahd\\anaconda3\\lib\\site-packages (2.0.3)\n",
      "Requirement already satisfied: openpyxl in c:\\users\\ahd\\anaconda3\\lib\\site-packages (3.0.10)\n",
      "Requirement already satisfied: google-search-results in c:\\users\\ahd\\anaconda3\\lib\\site-packages (2.4.2)\n",
      "Requirement already satisfied: httpx==0.13.3 in c:\\users\\ahd\\anaconda3\\lib\\site-packages (from googletrans==4.0.0-rc1) (0.13.3)\n",
      "Requirement already satisfied: certifi in c:\\users\\ahd\\anaconda3\\lib\\site-packages (from httpx==0.13.3->googletrans==4.0.0-rc1) (2023.7.22)\n",
      "Requirement already satisfied: hstspreload in c:\\users\\ahd\\anaconda3\\lib\\site-packages (from httpx==0.13.3->googletrans==4.0.0-rc1) (2025.1.1)\n",
      "Requirement already satisfied: sniffio in c:\\users\\ahd\\anaconda3\\lib\\site-packages (from httpx==0.13.3->googletrans==4.0.0-rc1) (1.2.0)\n",
      "Requirement already satisfied: chardet==3.* in c:\\users\\ahd\\anaconda3\\lib\\site-packages (from httpx==0.13.3->googletrans==4.0.0-rc1) (3.0.4)\n",
      "Requirement already satisfied: idna==2.* in c:\\users\\ahd\\anaconda3\\lib\\site-packages (from httpx==0.13.3->googletrans==4.0.0-rc1) (2.10)\n",
      "Requirement already satisfied: rfc3986<2,>=1.3 in c:\\users\\ahd\\anaconda3\\lib\\site-packages (from httpx==0.13.3->googletrans==4.0.0-rc1) (1.5.0)\n",
      "Requirement already satisfied: httpcore==0.9.* in c:\\users\\ahd\\anaconda3\\lib\\site-packages (from httpx==0.13.3->googletrans==4.0.0-rc1) (0.9.1)\n",
      "Requirement already satisfied: h11<0.10,>=0.8 in c:\\users\\ahd\\anaconda3\\lib\\site-packages (from httpcore==0.9.*->httpx==0.13.3->googletrans==4.0.0-rc1) (0.9.0)\n",
      "Requirement already satisfied: h2==3.* in c:\\users\\ahd\\anaconda3\\lib\\site-packages (from httpcore==0.9.*->httpx==0.13.3->googletrans==4.0.0-rc1) (3.2.0)\n",
      "Requirement already satisfied: hyperframe<6,>=5.2.0 in c:\\users\\ahd\\anaconda3\\lib\\site-packages (from h2==3.*->httpcore==0.9.*->httpx==0.13.3->googletrans==4.0.0-rc1) (5.2.0)\n",
      "Requirement already satisfied: hpack<4,>=3.0 in c:\\users\\ahd\\anaconda3\\lib\\site-packages (from h2==3.*->httpcore==0.9.*->httpx==0.13.3->googletrans==4.0.0-rc1) (3.0.0)\n",
      "Requirement already satisfied: prawcore<3,>=2.4 in c:\\users\\ahd\\anaconda3\\lib\\site-packages (from praw) (2.4.0)\n",
      "Requirement already satisfied: update_checker>=0.18 in c:\\users\\ahd\\anaconda3\\lib\\site-packages (from praw) (0.18.0)\n",
      "Requirement already satisfied: websocket-client>=0.54.0 in c:\\users\\ahd\\anaconda3\\lib\\site-packages (from praw) (0.58.0)\n",
      "Requirement already satisfied: six in c:\\users\\ahd\\anaconda3\\lib\\site-packages (from langdetect) (1.16.0)\n",
      "Requirement already satisfied: python-dateutil>=2.8.2 in c:\\users\\ahd\\anaconda3\\lib\\site-packages (from pandas) (2.8.2)\n",
      "Requirement already satisfied: pytz>=2020.1 in c:\\users\\ahd\\anaconda3\\lib\\site-packages (from pandas) (2025.2)\n",
      "Requirement already satisfied: tzdata>=2022.1 in c:\\users\\ahd\\anaconda3\\lib\\site-packages (from pandas) (2023.3)\n",
      "Requirement already satisfied: numpy>=1.21.0 in c:\\users\\ahd\\anaconda3\\lib\\site-packages (from pandas) (1.24.3)\n",
      "Requirement already satisfied: et_xmlfile in c:\\users\\ahd\\anaconda3\\lib\\site-packages (from openpyxl) (1.1.0)\n",
      "Requirement already satisfied: requests in c:\\users\\ahd\\anaconda3\\lib\\site-packages (from google-search-results) (2.31.0)\n",
      "Requirement already satisfied: charset-normalizer<4,>=2 in c:\\users\\ahd\\anaconda3\\lib\\site-packages (from requests->google-search-results) (2.0.4)\n",
      "Requirement already satisfied: urllib3<3,>=1.21.1 in c:\\users\\ahd\\anaconda3\\lib\\site-packages (from requests->google-search-results) (1.26.16)\n"
     ]
    }
   ],
   "source": [
    "\n",
    "!pip install praw googletrans==4.0.0-rc1 langdetect pandas openpyxl google-search-results\n"
   ]
  },
  {
   "cell_type": "code",
   "execution_count": null,
   "id": "5c5f6e17",
   "metadata": {},
   "outputs": [
    {
     "name": "stdout",
     "output_type": "stream",
     "text": [
      "✅ Reddit data saved.\n"
     ]
    }
   ],
   "source": [
    "\n",
    "import praw\n",
    "import pandas as pd\n",
    "from langdetect import detect\n",
    "from googletrans import Translator\n",
    "from datetime import datetime\n",
    "\n",
    "translator = Translator()\n",
    "\n",
    "reddit = praw.Reddit(\n",
    "    client_id='client_id',\n",
    "    client_secret='client_secret,\n",
    "    user_agent='user_agent'\n",
    ")\n",
    "\n",
    "keywords = {\n",
    "    \"وزارة التعليم\": [\"وزارة التعليم\", \"التعليم في قطر\", \"ministry of education qatar\"],\n",
    "    \"وزارة الصحة\": [\"وزارة الصحة\", \"الصحة في قطر\", \"MOPH Qatar\"],\n",
    "    \"وزارة التجارة والصناعة\": [\"وزارة التجارة\", \"التجارة قطر\", \"ministry of commerce qatar\"],\n",
    "    \"وزارة المواصلات\": [\"وزارة المواصلات\", \"mots qatar\"],\n",
    "    \"وزارة البلدية\": [\"وزارة البلدية\", \"municipality qatar\"],\n",
    "    \"أشغال\": [\"هيئة الأشغال\", \"ashghal\", \"ashghal qatar\"]\n",
    "}\n",
    "\n",
    "data = []\n",
    "\n",
    "for entity, terms in keywords.items():\n",
    "    for term in terms:\n",
    "        for post in reddit.subreddit(\"all\").search(term, limit=50):\n",
    "            try:\n",
    "                text = post.title + \"\\n\" + post.selftext\n",
    "                lang = detect(text)\n",
    "                ar_text = text if lang == 'ar' else translator.translate(text, dest='ar').text\n",
    "                en_text = text if lang == 'en' else translator.translate(text, dest='en').text\n",
    "                data.append({\n",
    "                    \"ID\": post.id,\n",
    "                    \"Source\": \"Reddit\",\n",
    "                    \"Entity\": entity,\n",
    "                    \"Arabic Post\": ar_text,\n",
    "                    \"English\": en_text,\n",
    "                    \"Original Lang\": lang,\n",
    "                    \"Post Type\": \"Post\",\n",
    "                    \"Hashtag\": ', '.join([t for t in text.split() if t.startswith(\"#\")]),\n",
    "                    \"Date\": datetime.fromtimestamp(post.created_utc),\n",
    "                    \"Link\": f\"https://www.reddit.com{post.permalink}\"\n",
    "                })\n",
    "            except:\n",
    "                continue\n",
    "\n",
    "df = pd.DataFrame(data)\n",
    "df.to_excel(\"reddit_qatar_feedback.xlsx\", index=False)\n",
    "print(\"✅ Reddit data saved.\")\n"
   ]
  },
  {
   "cell_type": "code",
   "execution_count": null,
   "id": "71683307",
   "metadata": {},
   "outputs": [
    {
     "name": "stdout",
     "output_type": "stream",
     "text": [
      "🔍 Searching Google for:  وزارة التعليم قطر site:facebook.com\n",
      "🔍 Searching Google for: وزارة التعليم قطر  site:instagram.com\n",
      "🔍 Searching Google for: وزارة التعليم قطر  site:twitter.com\n",
      "🔍 Searching Google for: وزارة الصحة قطر site:facebook.com\n",
      "🔍 Searching Google for: وزارة الصحة قطر site:instagram.com\n",
      "🔍 Searching Google for: وزارة الصحة قطر site:twitter.com\n",
      "🔍 Searching Google for: وزارة التجارة والصناعة قطر site:facebook.com\n",
      "🔍 Searching Google for: وزارة التجارة والصناعة قطر site:instagram.com\n",
      "🔍 Searching Google for: وزارة التجارة والصناعة قطر site:twitter.com\n",
      "🔍 Searching Google for: وزارة المواصلات قطر site:facebook.com\n",
      "🔍 Searching Google for: وزارة المواصلات قطر site:instagram.com\n",
      "🔍 Searching Google for: وزارة المواصلات قطر site:twitter.com\n",
      "🔍 Searching Google for: وزارة البلدية قطر site:facebook.com\n",
      "❌ Error for query وزارة البلدية قطر site:facebook.com: The read operation timed out\n",
      "🔍 Searching Google for: وزارة البلدية قطر site:instagram.com\n",
      "❌ Error for query وزارة البلدية قطر site:instagram.com: the JSON object must be str, bytes or bytearray, not NoneType\n",
      "🔍 Searching Google for: وزارة البلدية قطر site:twitter.com\n",
      "❌ Error for query وزارة البلدية قطر site:twitter.com: the JSON object must be str, bytes or bytearray, not NoneType\n",
      "🔍 Searching Google for:  هيئة الأشغال قطر site:facebook.com\n",
      "❌ Error for query  هيئة الأشغال قطر site:facebook.com: the JSON object must be str, bytes or bytearray, not NoneType\n",
      "🔍 Searching Google for: ashghal qatar site:instagram.com\n",
      "❌ Error for query ashghal qatar site:instagram.com: the JSON object must be str, bytes or bytearray, not NoneType\n",
      "🔍 Searching Google for: ashghal qatar site:twitter.com\n",
      "❌ Error for query ashghal qatar site:twitter.com: the JSON object must be str, bytes or bytearray, not NoneType\n",
      "✅ Data saved to fb_ig_from_google.xlsx\n"
     ]
    }
   ],
   "source": [
    "from serpapi import GoogleSearch\n",
    "import pandas as pd\n",
    "from langdetect import detect\n",
    "from googletrans import Translator\n",
    "import time\n",
    "\n",
    "translator = Translator()\n",
    "\n",
    "# أدخل مفتاح SerpAPI الخاص بك هنا\n",
    "SERPAPI_API_KEY = \"SERPAPI_API_KEY\"\n",
    "\n",
    "entities = {\n",
    "    \"وزارة التعليم قطر\": [\" وزارة التعليم قطر site:facebook.com\", \"وزارة التعليم قطر  site:instagram.com\",\"وزارة التعليم قطر  site:twitter.com\"],\n",
    "    \" وزارة الصحة قطر\": [\"وزارة الصحة قطر site:facebook.com\", \"وزارة الصحة قطر site:instagram.com\",\"وزارة الصحة قطر site:twitter.com\"],\n",
    "    \"وزارة التجارة والصناعة قطر\": [\"وزارة التجارة والصناعة قطر site:facebook.com\", \"وزارة التجارة والصناعة قطر site:instagram.com\",\"وزارة التجارة والصناعة قطر site:twitter.com\"],\n",
    "    \"وزارة المواصلات قطر\": [\"وزارة المواصلات قطر site:facebook.com\", \"وزارة المواصلات قطر site:instagram.com\",\"وزارة المواصلات قطر site:twitter.com\"],\n",
    "    \"وزارة البلدية قطر\": [\"وزارة البلدية قطر site:facebook.com\", \"وزارة البلدية قطر site:instagram.com\",\"وزارة البلدية قطر site:twitter.com\"],\n",
    "    \"أشغال قطر\": [\" هيئة الأشغال قطر site:facebook.com\", \"ashghal qatar site:instagram.com\",\"ashghal qatar site:twitter.com\"]\n",
    "}\n",
    "\n",
    "results = []\n",
    "\n",
    "for entity, queries in entities.items():\n",
    "    for query in queries:\n",
    "        print(f\"🔍 Searching Google for: {query}\")\n",
    "        params = {\n",
    "            \"engine\": \"google\",\n",
    "            \"q\": query,\n",
    "            \"hl\": \"ar\",\n",
    "            \"num\": 50,\n",
    "            \"api_key\": SERPAPI_API_KEY,\n",
    "            \"tbs\": \"cdr:1,cd_min:1/1/2020,cd_max:12/31/2025\"\n",
    "        }\n",
    "        search = GoogleSearch(params)\n",
    "        try:\n",
    "            results_data = search.get_dict()\n",
    "            for r in results_data.get(\"organic_results\", []):\n",
    "                title = r.get(\"title\", \"\")\n",
    "                snippet = r.get(\"snippet\", \"\")\n",
    "                url = r.get(\"link\", \"\")\n",
    "                text = title + \" \" + snippet\n",
    "                lang = detect(text)\n",
    "                ar = text if lang == \"ar\" else translator.translate(text, dest='ar').text\n",
    "                en = text if lang == \"en\" else translator.translate(text, dest='en').text\n",
    "                results.append({\n",
    "                    \"ID\": url.split(\"/\")[-1][:15],\n",
    "                    \"Source\": \"Facebook/Instagram (via Google)\",\n",
    "                    \"Entity\": entity,\n",
    "                    \"Arabic Post\": ar,\n",
    "                    \"English\": en,\n",
    "                    \"Original Lang\": lang,\n",
    "                    \"Post Type\": \"Post\",\n",
    "                    \"Hashtag\": ', '.join([t for t in text.split() if t.startswith(\"#\")]),\n",
    "                    \"Date\": \"\",\n",
    "                    \"Link\": url\n",
    "                })\n",
    "            time.sleep(1)\n",
    "        except Exception as e:\n",
    "            print(f\"❌ Error for query {query}: {e}\")\n",
    "\n",
    "# حفظ النتائج\n",
    "df = pd.DataFrame(results)\n",
    "df.to_excel(\"fb_ig_from_google.xlsx\", index=False)\n",
    "print(\"✅ Data saved to fb_ig_from_google.xlsx\")\n",
    "\n"
   ]
  },
  {
   "cell_type": "code",
   "execution_count": 7,
   "id": "14804a8c",
   "metadata": {},
   "outputs": [
    {
     "name": "stdout",
     "output_type": "stream",
     "text": [
      "✅ All data saved to final Excel file.\n"
     ]
    }
   ],
   "source": [
    "\n",
    "df1 = pd.read_excel(\"reddit_qatar_feedback.xlsx\")\n",
    "df2 = pd.read_excel(\"fb_ig_from_google.xlsx\")\n",
    "merged_df = pd.concat([df1, df2], ignore_index=True)\n",
    "merged_df.to_excel(\"qatar_social_feedback_combined.xlsx\", index=False)\n",
    "print(\"✅ All data saved to final Excel file.\")\n"
   ]
  },
  {
   "cell_type": "code",
   "execution_count": null,
   "id": "cff83079",
   "metadata": {},
   "outputs": [],
   "source": []
  }
 ],
 "metadata": {
  "kernelspec": {
   "display_name": "Python 3 (ipykernel)",
   "language": "python",
   "name": "python3"
  },
  "language_info": {
   "codemirror_mode": {
    "name": "ipython",
    "version": 3
   },
   "file_extension": ".py",
   "mimetype": "text/x-python",
   "name": "python",
   "nbconvert_exporter": "python",
   "pygments_lexer": "ipython3",
   "version": "3.11.5"
  }
 },
 "nbformat": 4,
 "nbformat_minor": 5
}
